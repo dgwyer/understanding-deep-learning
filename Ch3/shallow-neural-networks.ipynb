{
 "cells": [
  {
   "cell_type": "markdown",
   "id": "d4039724-2d8b-4b20-840b-eb63c8701b3e",
   "metadata": {},
   "source": [
    "Add here..."
   ]
  },
  {
   "cell_type": "code",
   "execution_count": null,
   "id": "1b860252-f564-4cfc-8175-18212b8d1562",
   "metadata": {},
   "outputs": [],
   "source": []
  }
 ],
 "metadata": {
  "kernelspec": {
   "display_name": "Python 3 (ipykernel)",
   "language": "python",
   "name": "python3"
  },
  "language_info": {
   "codemirror_mode": {
    "name": "ipython",
    "version": 3
   },
   "file_extension": ".py",
   "mimetype": "text/x-python",
   "name": "python",
   "nbconvert_exporter": "python",
   "pygments_lexer": "ipython3",
   "version": "3.12.5"
  }
 },
 "nbformat": 4,
 "nbformat_minor": 5
}
