{
 "cells": [
  {
   "cell_type": "markdown",
   "id": "54179ef6-d7e0-4f10-be86-471c3fa717da",
   "metadata": {},
   "source": [
    "## Problem Solutions"
   ]
  },
  {
   "cell_type": "markdown",
   "id": "0ef2dfb7-ff6d-40a9-bbb1-cb2f890febd9",
   "metadata": {},
   "source": [
    "#### 2.1 Click [here](https://chatgpt.com/share/66fbe974-e93c-8005-8195-5fb70e715462) for full ChatGPT solution."
   ]
  },
  {
   "cell_type": "markdown",
   "id": "a98b8d18-864c-4b30-abaf-f7a80501b7f0",
   "metadata": {},
   "source": [
    "The gradients of the loss function with respect to $\\large \\phi_0$ and $\\large \\phi_1$ are:\n",
    "\n",
    "$\\large \\frac{\\partial L}{\\partial \\phi_0} = 2 \\left(\\phi_0 + \\phi_1 x_i - y_i\\right)$\n",
    "\n",
    "$\\large \\frac{\\partial L}{\\partial \\phi_1} = 2 \\sum\\limits_{i=1}^I \\left(\\phi_0 + \\phi_1 x_i - y_i\\right) x_i$"
   ]
  },
  {
   "cell_type": "markdown",
   "id": "db70119b-ce23-4e74-a6f1-9a99f1c9a7d2",
   "metadata": {},
   "source": [
    "#### 2.2 Set the partial derivatives of $\\frac{\\partial L}{\\partial \\phi_0}$ and $\\frac{\\partial L}{\\partial \\phi_1}$ to 0, and solve for $\\large \\phi_0$ and $\\large \\phi_1$ respectively."
   ]
  },
  {
   "cell_type": "markdown",
   "id": "b8304ea2-4eb5-4727-82ff-f7ae8e428c89",
   "metadata": {},
   "source": [
    "See [ChatGPT](https://chatgpt.com/share/66fd5c7c-ea00-8005-b2b3-26c3c29d84c3) solution for $\\large \\phi_0$.\n",
    "\n",
    "See [ChatGPT](https://chatgpt.com/share/66fd5c58-9910-8005-875a-9ecba376a1b0) solution for $\\large \\phi_1$."
   ]
  },
  {
   "cell_type": "markdown",
   "id": "3956760c-d28f-4248-ab94-ecd223cd5825",
   "metadata": {},
   "source": [
    "#### 2.3 See book solution."
   ]
  }
 ],
 "metadata": {
  "kernelspec": {
   "display_name": "Python 3 (ipykernel)",
   "language": "python",
   "name": "python3"
  },
  "language_info": {
   "codemirror_mode": {
    "name": "ipython",
    "version": 3
   },
   "file_extension": ".py",
   "mimetype": "text/x-python",
   "name": "python",
   "nbconvert_exporter": "python",
   "pygments_lexer": "ipython3",
   "version": "3.12.5"
  }
 },
 "nbformat": 4,
 "nbformat_minor": 5
}
